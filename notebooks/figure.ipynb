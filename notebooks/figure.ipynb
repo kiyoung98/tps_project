{
 "cells": [
  {
   "cell_type": "markdown",
   "metadata": {},
   "source": [
    "# Setup"
   ]
  },
  {
   "cell_type": "code",
   "execution_count": null,
   "metadata": {},
   "outputs": [],
   "source": [
    "# NOTE: This job does not work well in vscode\n",
    "# PLEASE execute the ipynb file on the browser by ''jupyter notebook'', rather than in vscode.\n",
    "\n",
    "import os\n",
    "import tae\n",
    "import time\n",
    "import torch\n",
    "import imageio\n",
    "import matplotlib\n",
    "\n",
    "import numpy as np\n",
    "import mdtraj as md\n",
    "import matplotlib.pyplot as plt\n",
    "\n",
    "from tqdm import tqdm"
   ]
  },
  {
   "cell_type": "markdown",
   "metadata": {},
   "source": [
    "# Ramachandran plot"
   ]
  },
  {
   "cell_type": "markdown",
   "metadata": {},
   "source": [
    "## Configurations"
   ]
  },
  {
   "cell_type": "code",
   "execution_count": null,
   "metadata": {},
   "outputs": [],
   "source": [
    "# Molecule configs\n",
    "molecule = \"alanine\"\n",
    "start_state=\"c5\"\n",
    "end_state=\"c7ax\"\n",
    "\n",
    "# Path configs\n",
    "project = \"visual\"\n",
    "date = \"0517\"\n",
    "seed = \"2\"\n",
    "md_file = f\"../data/{molecule}/{start_state}.pdb\"\n",
    "\n",
    "# Image config\n",
    "IMAGE_SIZE = \"400px\""
   ]
  },
  {
   "cell_type": "code",
   "execution_count": null,
   "metadata": {},
   "outputs": [],
   "source": [
    "# NOTE: Modify this considering paths!!\n",
    "\n",
    "# path to save the images\n",
    "path_to_save = f\"./\" \n",
    "\n",
    "# Number of paths you will be drawing\n",
    "path_num_max = 64\n",
    "\n",
    "# FIle name of ramachandran plot\n",
    "ram_filename = \"alanine_ram\""
   ]
  },
  {
   "cell_type": "markdown",
   "metadata": {},
   "source": [
    "## Predefined class, functions (you don't need to modify it)"
   ]
  },
  {
   "cell_type": "code",
   "execution_count": null,
   "metadata": {},
   "outputs": [],
   "source": [
    "# Alaninde potential from PIPS\n",
    "\n",
    "class AlaninePotential():\n",
    "    def __init__(self):\n",
    "        super().__init__()\n",
    "        self.open_file()\n",
    "\n",
    "    def open_file(self):\n",
    "        file = \"../src/utils/vacuum.dat\"\n",
    "\n",
    "        with open(file) as f:\n",
    "            lines = f.readlines()\n",
    "\n",
    "        dims = [90, 90]\n",
    "\n",
    "        self.locations = torch.zeros((int(dims[0]), int(dims[1]), 2))\n",
    "        self.data = torch.zeros((int(dims[0]), int(dims[1])))\n",
    "\n",
    "        i = 0\n",
    "        for line in lines[1:]:\n",
    "\n",
    "            splits = line[0:-1].split(\" \")\n",
    "            vals = [y for y in splits if y != '']\n",
    "\n",
    "            x = float(vals[0])\n",
    "            y = float(vals[1])\n",
    "            val = float(vals[-1])\n",
    "\n",
    "            self.locations[i // 90, i % 90, :] = torch.tensor([x, y])\n",
    "            self.data[i // 90, i % 90] = (val)  # / 503.)\n",
    "            i = i + 1\n",
    "\n",
    "    def potential(self, inp):\n",
    "        loc = self.locations.view(-1, 2)\n",
    "        distances = torch.cdist(inp, loc.double(), p=2)\n",
    "        index = distances.argmin(dim=1)\n",
    "\n",
    "        x = torch.div(index, self.locations.shape[0], rounding_mode='trunc')  # index // self.locations.shape[0]\n",
    "        y = index % self.locations.shape[0]\n",
    "\n",
    "        z = self.data[x, y]\n",
    "        return z"
   ]
  },
  {
   "cell_type": "code",
   "execution_count": null,
   "metadata": {},
   "outputs": [],
   "source": [
    "# Helper functions\n",
    "\n",
    "def compute_dihedral(p): \n",
    "    b = p[:-1] - p[1:]\n",
    "    b[0] *= -1\n",
    "    v = np.array(\n",
    "        [v - (v.dot(b[1]) / b[1].dot(b[1])) * b[1] for v in [b[0], b[2]]])\n",
    "\n",
    "    v /= np.sqrt(np.einsum('...i,...i', v, v)).reshape(-1, 1)\n",
    "    b1 = b[1] / np.linalg.norm(b[1])\n",
    "    x = np.dot(v[0], v[1])\n",
    "    m = np.cross(v[0], b1)\n",
    "    y = np.dot(m, v[1])\n",
    "    return np.arctan2(y, x)\n",
    "\n",
    "def plot_alanine_ram(dir_path, positions, last_idx, highlight_idx, filename=\"alanine\", file_type=\"pdf\"):\n",
    "    # Basic configs\n",
    "    plt.clf()\n",
    "    fig = plt.figure(figsize=(7, 7))\n",
    "    ax = fig.add_subplot(111)\n",
    "    plt.xlim([-np.pi, np.pi])\n",
    "    plt.ylim([-np.pi, np.pi])\n",
    "    circle_size = 1200\n",
    "    saddle_size = 2400\n",
    "    z_num = 32\n",
    "\n",
    "    # Plot potential by contour plot\n",
    "    potential = AlaninePotential()\n",
    "    xs = np.arange(-np.pi, np.pi + .1, .1)\n",
    "    ys = np.arange(-np.pi, np.pi + .1, .1)\n",
    "    x, y = np.meshgrid(xs, ys)\n",
    "    inp = torch.tensor(np.array([x, y])).view(2, -1).T\n",
    "    z = potential.potential(inp)\n",
    "    z = z.view(y.shape[0], y.shape[1])\n",
    "    plt.contourf(xs, ys, z, levels=z_num, zorder=0)\n",
    "\n",
    "    # Plot start and target positions\n",
    "    angle_1 = [6, 8, 14, 16]\n",
    "    angle_2 = [1, 6, 8, 14]\n",
    "    phi_start, psi_start = -2.45, 2.71\n",
    "    phi_end, psi_end = 1.00, -0.65\n",
    "    ax.scatter(phi_start, psi_start, edgecolors='black', c='w', zorder=z_num, s=circle_size)\n",
    "    ax.scatter(phi_end, psi_end, edgecolors='black', c='w', zorder=z_num, s=circle_size)\n",
    "\n",
    "    # Plot saddle points\n",
    "    phis_saddle = [-0.035, -0.017]\n",
    "    psis_saddle = [1.605, -0.535]\n",
    "    ax.scatter(phis_saddle, psis_saddle, edgecolors='black', c='w', zorder=z_num, s=saddle_size, marker=\"*\")\n",
    "    \n",
    "    # Plot paths\n",
    "    cm = plt.get_cmap('gist_rainbow')\n",
    "    ax.set_prop_cycle(color=[cm(1. * i / len(highlight_idx)) for i in range(len(highlight_idx))])\n",
    "    for i in tqdm(range(len(positions))):\n",
    "        if i in highlight_idx:\n",
    "            psi = []\n",
    "            phi = []\n",
    "            for j in range(last_idx[i]):\n",
    "                psi.append(compute_dihedral(positions[i][j][angle_1]))\n",
    "                phi.append(compute_dihedral(positions[i][j][angle_2]))\n",
    "            ax.plot(phi, psi, marker='o', linestyle='None', markersize=2, alpha=1., zorder=z_num-1)\n",
    "        else:\n",
    "            psi = []\n",
    "            phi = []\n",
    "            for j in range(last_idx[i]):\n",
    "                psi.append(compute_dihedral(positions[i][j][angle_1]))\n",
    "                phi.append(compute_dihedral(positions[i][j][angle_2]))\n",
    "            ax.plot(phi, psi, marker='o', linestyle='None', markersize=2, alpha=0.1, color=\"grey\")\n",
    "\n",
    "    # Plot basic configs\n",
    "    plt.xlabel('\\u03A6', fontsize=24, fontweight='medium')\n",
    "    plt.ylabel('\\u03A8', fontsize=24, fontweight='medium')\n",
    "    plt.tick_params(\n",
    "        left = False,\n",
    "        right = False ,\n",
    "        labelleft = False , \n",
    "        labelbottom = False,\n",
    "        bottom = False\n",
    "    ) \n",
    "    plt.tight_layout()\n",
    "    \n",
    "    # Save figure\n",
    "    if file_type.lower() not in [\"pdf\", \"png\", \"jpg\", \"jpeg\"]:\n",
    "        raise ValueError(\"Invalid file type. Please use pdf, png, jpg, or jpeg.\")\n",
    "    file_name = f\"{dir_path}/{filename}.{file_type}\"\n",
    "    fig.savefig(file_name, dpi=300)\n",
    "    plt.show()\n",
    "    print(f\"File saved at {file_name}!!\")\n",
    "    \n",
    "    return fig"
   ]
  },
  {
   "cell_type": "markdown",
   "metadata": {},
   "source": [
    "## Plot!"
   ]
  },
  {
   "cell_type": "code",
   "execution_count": null,
   "metadata": {},
   "outputs": [],
   "source": [
    "# Select paths\n",
    "positions_list = []\n",
    "path_length_list = []\n",
    "\n",
    "# Select paths to highlight, if needed\n",
    "# highlight = [1, 11, 19, 33, 35, 40, 41, 44, 45, 49, 54, 59]\n",
    "highlight = [i for i in range(path_num_max)]\n",
    "\n",
    "for path_num_idx in range(path_num_max):\n",
    "    traj_file_name = f\"../results/{molecule}/{project}/{date}/eval/{seed}/3D/3D_view_{path_num_idx}.h5\"\n",
    "    traj = md.load(traj_file_name, top=md_file)\n",
    "    positions_list.append(traj.xyz)\n",
    "    path_length_list.append(traj.n_frames)"
   ]
  },
  {
   "cell_type": "code",
   "execution_count": null,
   "metadata": {},
   "outputs": [],
   "source": [
    "# If file loading takes too long, use \"png\" instead of \"pdf\"\n",
    "fig = plot_alanine_ram(\n",
    "    dir_path = path_to_save,\n",
    "    positions = positions_list,\n",
    "    last_idx = path_length_list,\n",
    "    highlight_idx = highlight,\n",
    "    filename = ram_filename, \n",
    "    filetype = \"pdf\"\n",
    ")\n",
    "print(f\"{len(highlight)} paths highlighted!\")"
   ]
  },
  {
   "cell_type": "markdown",
   "metadata": {},
   "source": [
    "# Values"
   ]
  },
  {
   "cell_type": "markdown",
   "metadata": {},
   "source": [
    "## Configurations"
   ]
  },
  {
   "cell_type": "code",
   "execution_count": null,
   "metadata": {},
   "outputs": [],
   "source": [
    "colors = [\"#A10035\", \"#3FA796\", \"#FEC220\", \"#2A0944\"]\n",
    "\n",
    "# NOTE:Select path num to plot!!\n",
    "path_num = 8"
   ]
  },
  {
   "cell_type": "markdown",
   "metadata": {},
   "source": [
    "## Torsion angles"
   ]
  },
  {
   "cell_type": "code",
   "execution_count": null,
   "metadata": {},
   "outputs": [],
   "source": [
    "# Load paths\n",
    "\n",
    "traj_file_name = f\"../results/{molecule}/{project}/{date}/eval/{seed}/3D/3D_view_{path_num}.h5\"\n",
    "traj = md.load(traj_file_name, top=md_file)\n",
    "\n",
    "angle_1 = [6, 8, 14, 16]\n",
    "angle_2 = [1, 6, 8, 14]\n",
    "\n",
    "psi_list = traj.xyz[:, angle_1, :]\n",
    "phi_list = traj.xyz[:, angle_2, :]\n",
    "psi_list = [compute_dihedral(psi) for psi in psi_list]\n",
    "phi_list = [compute_dihedral(phi) for phi in phi_list]"
   ]
  },
  {
   "cell_type": "code",
   "execution_count": null,
   "metadata": {},
   "outputs": [],
   "source": [
    "def plot_torsion_angle(image_name, path_to_save, data, color, y_label):\n",
    "    # Basic configs\n",
    "\tfig = plt.figure(figsize=(20, 3))\n",
    "\tplt.plot(data, color = color,linewidth=4)\n",
    "\tplt.tick_params(\n",
    "\t\tleft = True,\n",
    "\t\tright = False ,\n",
    "\t\tlabelleft = True , \n",
    "\t\tlabelbottom = True,\n",
    "\t\tbottom = True\n",
    "\t) \n",
    " \n",
    "\t# Data configs\n",
    "\tplt.ylim(-3.15, 3.15)\n",
    "\tplt.xlabel('Time (fs)', fontsize=18, weight=\"semibold\")\n",
    "\tplt.ylabel(f\"{y_label}\", fontsize=18, weight=\"semibold\")\n",
    "\tplt.xticks(fontsize=14, weight=\"semibold\")\n",
    "\tplt.grid(axis='y')\n",
    "\n",
    "\tplt.tight_layout()\n",
    "\tfig.savefig(f'{path_to_save}/{image_name}.pdf', dpi=300)\n",
    "\tplt.show()\n",
    "\tplt.close()\n",
    "\n",
    "\treturn fig"
   ]
  },
  {
   "cell_type": "code",
   "execution_count": null,
   "metadata": {},
   "outputs": [],
   "source": [
    "# Plot torsion angles\n",
    "fig_psi = plot_torsion_angle(\n",
    "\timage_name = \"psi\",\n",
    "\tpath_to_save = path_to_save,\n",
    "\tdata = psi_list,\n",
    "\tcolor = colors[0],\n",
    "\ty_label = \"\\u03A8 (Rad)\"\n",
    ")\n",
    "fig_psi = plot_torsion_angle(\n",
    "\timage_name = \"phi\",\n",
    "\tpath_to_save = path_to_save,\n",
    "\tdata = phi_list,\n",
    "\tcolor = colors[1],\n",
    "\ty_label = \"\\u03A6 (Rad)\"\n",
    ")"
   ]
  },
  {
   "cell_type": "markdown",
   "metadata": {},
   "source": [
    "## Potential energy"
   ]
  },
  {
   "cell_type": "code",
   "execution_count": null,
   "metadata": {},
   "outputs": [],
   "source": [
    "# Load potential energy value from npy file\n",
    "potential_file_name = f\"../results/{molecule}/{project}/{date}/eval/{seed}/potential/potential_values_{path_num}.npy\"\n",
    "\n",
    "potential_data = np.load(potential_file_name)\n",
    "potential_data.shape"
   ]
  },
  {
   "cell_type": "code",
   "execution_count": null,
   "metadata": {},
   "outputs": [],
   "source": [
    "def plot_potential(image_name, path_to_save, data, color, y_label):\n",
    "    # Basic configs\n",
    "\tfig = plt.figure(figsize=(20, 5))\n",
    "\tplt.plot(data, color = color,linewidth=4)\n",
    "\tplt.tick_params(\n",
    "\t\tleft = True,\n",
    "\t\tright = False ,\n",
    "\t\tlabelleft = True , \n",
    "\t\tlabelbottom = True,\n",
    "\t\tbottom = True\n",
    "\t) \n",
    "\n",
    "\t# Data configs\n",
    "\tplt.xlabel('Time (fs)', fontsize=28, weight=\"semibold\")\n",
    "\tplt.ylabel(f\"{y_label}\", fontsize=28, weight=\"semibold\")\n",
    "\tplt.xticks(fontsize=18, weight=\"semibold\")\n",
    " \t# NOTE: Modify this considering molecules!!\n",
    "\tplt.yticks([-1500, -1200, -900, -600], fontsize=18, weight=\"semibold\")\n",
    "\tplt.grid(axis='y')\n",
    "\n",
    " \t# Save figure\n",
    "\tplt.tight_layout()\n",
    "\tfig.savefig(f'{path_to_save}/{image_name}.pdf', dpi=300)\n",
    "\tplt.show()\n",
    "\tplt.close()\n",
    "\n",
    "\treturn fig"
   ]
  },
  {
   "cell_type": "code",
   "execution_count": null,
   "metadata": {},
   "outputs": [],
   "source": [
    "# Plot potential energy\n",
    "fig_pot = plot_potential(\n",
    "\timage_name = \"potential\",\n",
    "\tpath_to_save = path_to_save,\n",
    "\tdata = potential_data,\n",
    "\tcolor = colors[3],\n",
    "\ty_label = \"Potential Energy (kJ/mol)\"\n",
    ")"
   ]
  }
 ],
 "metadata": {
  "kernelspec": {
   "display_name": "Python 3 (ipykernel)",
   "language": "python",
   "name": "python3"
  },
  "language_info": {
   "codemirror_mode": {
    "name": "ipython",
    "version": 3
   },
   "file_extension": ".py",
   "mimetype": "text/x-python",
   "name": "python",
   "nbconvert_exporter": "python",
   "pygments_lexer": "ipython3",
   "version": "3.9.18"
  }
 },
 "nbformat": 4,
 "nbformat_minor": 4
}
