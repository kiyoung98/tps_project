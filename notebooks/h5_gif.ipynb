{
 "cells": [
  {
   "cell_type": "code",
   "execution_count": 6,
   "id": "9e0b3efc-fec3-4ac1-81be-57090bbf4218",
   "metadata": {},
   "outputs": [],
   "source": [
    "# NOTE: This job does not work well in vscode\n",
    "# PLEASE execute the ipynb file on the browser by ''jupyter notebook'', rather than in vscode.\n",
    "\n",
    "import mdtraj as md\n",
    "import nglview as nv"
   ]
  },
  {
   "cell_type": "code",
   "execution_count": 7,
   "id": "1777c74e-3f10-45e3-b236-9f55001f9a08",
   "metadata": {},
   "outputs": [],
   "source": [
    "molecule=\"alanine\"\n",
    "start_state=\"c5\"\n",
    "\n",
    "# Open the HDF5 file\n",
    "H5_FILE = f\"0.h5\"\n",
    "IMAGE_SIZE = \"400px\"\n",
    "MD_FILE = f\"../data/{molecule}/{start_state}.pdb\""
   ]
  },
  {
   "cell_type": "code",
   "execution_count": 8,
   "id": "4a53b3c1-f3af-4d61-9bbf-024d13a06022",
   "metadata": {},
   "outputs": [
    {
     "data": {
      "application/vnd.jupyter.widget-view+json": {
       "model_id": "ad54d779f67d4817b5fb539005ed5918",
       "version_major": 2,
       "version_minor": 0
      },
      "text/plain": [
       "NGLWidget(max_frame=696)"
      ]
     },
     "metadata": {},
     "output_type": "display_data"
    }
   ],
   "source": [
    "traj = md.load(H5_FILE, top=MD_FILE)\n",
    "view = nv.show_mdtraj(traj, width=IMAGE_SIZE, height=IMAGE_SIZE)\n",
    "\n",
    "# if molecule == \"alanine\":\n",
    "#     view.add_ball_and_stick('protein', aspectRatio=1.5, radius=0.3)\n",
    "# elif molecule == \"poly\":\n",
    "#     view.add_ball_and_stick('protein', aspectRatio=1.5, radius=0.3)\n",
    "#     view.add_line(linewidth=12)\n",
    "#     view.add_backbone(aspectRatio=1.5)\n",
    "# elif molecule == \"chignolin\": \n",
    "# view.remove_cartoon()\n",
    "# view.add_ball_and_stick()\n",
    "# view.add_ribbon('protein')\n",
    "\n",
    "view"
   ]
  },
  {
   "cell_type": "code",
   "execution_count": 9,
   "id": "7b153e63-8396-4dac-b2f6-e63f3c7a2ca2",
   "metadata": {},
   "outputs": [
    {
     "data": {
      "application/vnd.jupyter.widget-view+json": {
       "model_id": "2f3eda8501474fdb804b955ed5ae61cb",
       "version_major": 2,
       "version_minor": 0
      },
      "text/plain": [
       "IntProgress(value=0, description='Rendering ...', max=10)"
      ]
     },
     "execution_count": 9,
     "metadata": {},
     "output_type": "execute_result"
    }
   ],
   "source": [
    "from nglview.contrib.movie import MovieMaker\n",
    "\n",
    "step = view.max_frame // 10\n",
    "\n",
    "movie = MovieMaker(\n",
    "    view = view,\n",
    "    step = step,\n",
    "    fps = 10,\n",
    "    output = f'0.gif',\n",
    ")\n",
    "movie.make()"
   ]
  },
  {
   "cell_type": "code",
   "execution_count": 5,
   "id": "97b5f25b-e42f-4598-b111-1813035941b3",
   "metadata": {},
   "outputs": [],
   "source": [
    "# frame_id = 10\n",
    "# view.render_image(frame=frame_id)\n",
    "# view.download_image(filename=\"test.png\", transparent=True)"
   ]
  },
  {
   "cell_type": "code",
   "execution_count": null,
   "id": "b41d1400-9871-43ce-b450-42d45e400812",
   "metadata": {},
   "outputs": [],
   "source": []
  }
 ],
 "metadata": {
  "kernelspec": {
   "display_name": "Python 3 (ipykernel)",
   "language": "python",
   "name": "python3"
  },
  "language_info": {
   "codemirror_mode": {
    "name": "ipython",
    "version": 3
   },
   "file_extension": ".py",
   "mimetype": "text/x-python",
   "name": "python",
   "nbconvert_exporter": "python",
   "pygments_lexer": "ipython3",
   "version": "3.9.18"
  }
 },
 "nbformat": 4,
 "nbformat_minor": 5
}
