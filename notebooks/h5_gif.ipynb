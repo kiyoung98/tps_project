{
 "cells": [
  {
   "cell_type": "code",
   "execution_count": 3,
   "id": "9e0b3efc-fec3-4ac1-81be-57090bbf4218",
   "metadata": {},
   "outputs": [
    {
     "data": {
      "application/vnd.jupyter.widget-view+json": {
       "model_id": "a7920214ed64430d835a935806079124",
       "version_major": 2,
       "version_minor": 0
      },
      "text/plain": []
     },
     "metadata": {},
     "output_type": "display_data"
    }
   ],
   "source": [
    "# NOTE: This job does not work well in vscode\n",
    "# PLEASE execute the ipynb file on the browser by ''jupyter notebook'', rather than in vscode.\n",
    "\n",
    "import mdtraj as md\n",
    "import nglview as nv"
   ]
  },
  {
   "cell_type": "code",
   "execution_count": 4,
   "id": "1777c74e-3f10-45e3-b236-9f55001f9a08",
   "metadata": {},
   "outputs": [],
   "source": [
    "# molecule=\"alanine\"\n",
    "# start_state=\"c5\"\n",
    "# H5_FILE = f\"alanine_pot.h5\"\n",
    "\n",
    "# molecule=\"chignolin\"\n",
    "# start_state=\"unfolded\"\n",
    "# H5_FILE = f\"chignolin_pot.h5\"\n",
    "\n",
    "molecule=\"poly\"\n",
    "start_state=\"pp2\"\n",
    "H5_FILE = f\"poly_pot.h5\"\n",
    "\n",
    "\n",
    "IMAGE_SIZE = \"400px\"\n",
    "MD_FILE = f\"../data/{molecule}/{start_state}.pdb\""
   ]
  },
  {
   "cell_type": "code",
   "execution_count": 7,
   "id": "4a53b3c1-f3af-4d61-9bbf-024d13a06022",
   "metadata": {},
   "outputs": [
    {
     "name": "stderr",
     "output_type": "stream",
     "text": [
      "/home/guest_sky/.local/lib/python3.9/site-packages/mdtraj/core/trajectory.py:439: UserWarning: top= kwargs ignored since this file parser does not support it\n",
      "  warnings.warn('top= kwargs ignored since this file parser does not support it')\n"
     ]
    },
    {
     "data": {
      "application/vnd.jupyter.widget-view+json": {
       "model_id": "082aada61eab453dae7c975805bdd16e",
       "version_major": 2,
       "version_minor": 0
      },
      "text/plain": [
       "NGLWidget(max_frame=702)"
      ]
     },
     "metadata": {},
     "output_type": "display_data"
    }
   ],
   "source": [
    "traj = md.load(H5_FILE, top=MD_FILE)\n",
    "view = nv.show_mdtraj(traj[:703], width=IMAGE_SIZE, height=IMAGE_SIZE)\n",
    "\n",
    "if molecule == \"poly\":\n",
    "    backbone_color = \"#3FA796\"\n",
    "    backbone_idx = [6, 16, 18, 20, 30, 32, 34, 44]\n",
    "    view.add_ball_and_stick('protein', aspectRatio=1.8, radius=0.2)\n",
    "    view.add_representation('ball+stick', aspectRatio=1, radius=0.5, selection=backbone_idx, color=backbone_color)\n",
    "    view.add_line(linewidth=8)\n",
    "elif molecule == \"chignolin\": \n",
    "    view.add_licorice()\n",
    "\n",
    "view"
   ]
  },
  {
   "cell_type": "code",
   "execution_count": 27,
   "id": "1f997402-09f5-41a0-b156-380004838493",
   "metadata": {},
   "outputs": [
    {
     "data": {
      "application/vnd.jupyter.widget-view+json": {
       "model_id": "ef7e243c752c401da2ae2428f0a05b59",
       "version_major": 2,
       "version_minor": 0
      },
      "text/plain": [
       "IntProgress(value=0, description='Rendering ...', max=70)"
      ]
     },
     "execution_count": 27,
     "metadata": {},
     "output_type": "execute_result"
    }
   ],
   "source": [
    "# from nglview.contrib.movie import MovieMaker\n",
    "\n",
    "# movie = MovieMaker(\n",
    "#     view = view,\n",
    "#     step = 10,\n",
    "#     output = '../poly.gif',\n",
    "# )\n",
    "# movie.make()"
   ]
  },
  {
   "cell_type": "code",
   "execution_count": 17,
   "id": "97b5f25b-e42f-4598-b111-1813035941b3",
   "metadata": {},
   "outputs": [],
   "source": [
    "# frame_id = 600\n",
    "# view.render_image(frame=frame_id)\n",
    "# view.download_image(filename=f\"poly_{frame_id}.png\")"
   ]
  },
  {
   "cell_type": "code",
   "execution_count": 13,
   "id": "f3f8b686-8ca3-4125-8c8b-b8df18fc1b2c",
   "metadata": {},
   "outputs": [
    {
     "data": {
      "application/vnd.jupyter.widget-view+json": {
       "model_id": "4999821e50e44d94b70e898b6c1cdac4",
       "version_major": 2,
       "version_minor": 0
      },
      "text/plain": [
       "NGLWidget()"
      ]
     },
     "metadata": {},
     "output_type": "display_data"
    }
   ],
   "source": [
    "import mdtraj as md\n",
    "import nglview as nv\n",
    "import numpy as np\n",
    "\n",
    "# molecule=\"poly\"\n",
    "# state = \"pp1\"\n",
    "\n",
    "molecule=\"alanine\"\n",
    "state = \"c5\"\n",
    "\n",
    "# Load the molecular structure\n",
    "pdb_file = f\"{state}.pdb\"  # replace with your PDB file\n",
    "traj = md.load(pdb_file)\n",
    "view = nv.show_mdtraj(traj[:703], width=IMAGE_SIZE, height=IMAGE_SIZE)\n",
    "\n",
    "\n",
    "# Create an NGLView widget\n",
    "if molecule == \"poly\":\n",
    "    backbone_color = \"#3FA796\"\n",
    "    backbone_idx = [6, 16, 18, 20, 30, 32, 34, 44]\n",
    "    view.add_ball_and_stick('protein', aspectRatio=1.8, radius=0.2)\n",
    "    view.add_representation('ball+stick', aspectRatio=1, radius=0.5, selection=backbone_idx, color=backbone_color)\n",
    "    view.add_line(linewidth=8)\n",
    "elif molecule == \"chignolin\": \n",
    "    view.add_licorice()\n",
    "    \n",
    "view"
   ]
  },
  {
   "cell_type": "code",
   "execution_count": 14,
   "id": "34560c66-f30f-4aee-89f9-f1702dc57524",
   "metadata": {},
   "outputs": [],
   "source": [
    "frame_id = 0\n",
    "view.render_image(frame=frame_id)\n",
    "view.download_image(filename=f\"../{state}.png\")"
   ]
  },
  {
   "cell_type": "code",
   "execution_count": null,
   "id": "bec87c61-0a70-4a41-9cd7-209a38cfc8c8",
   "metadata": {},
   "outputs": [],
   "source": []
  }
 ],
 "metadata": {
  "kernelspec": {
   "display_name": "Python 3 (ipykernel)",
   "language": "python",
   "name": "python3"
  },
  "language_info": {
   "codemirror_mode": {
    "name": "ipython",
    "version": 3
   },
   "file_extension": ".py",
   "mimetype": "text/x-python",
   "name": "python",
   "nbconvert_exporter": "python",
   "pygments_lexer": "ipython3",
   "version": "3.9.18"
  }
 },
 "nbformat": 4,
 "nbformat_minor": 5
}
